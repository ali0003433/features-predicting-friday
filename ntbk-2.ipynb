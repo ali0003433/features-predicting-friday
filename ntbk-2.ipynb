{
 "cells": [
  {
   "cell_type": "markdown",
   "metadata": {},
   "source": [
    "# Model selection "
   ]
  },
  {
   "cell_type": "code",
   "execution_count": 31,
   "metadata": {
    "ExecuteTime": {
     "end_time": "2019-11-17T22:46:44.291840Z",
     "start_time": "2019-11-17T22:46:44.285794Z"
    }
   },
   "outputs": [],
   "source": [
    "import pickle\n",
    "import numpy as np\n",
    "import pandas as pd\n",
    "import matplotlib.pyplot as plt\n",
    "from sklearn.preprocessing import StandardScaler\n",
    "from sklearn.pipeline import Pipeline\n",
    "from sklearn.neighbors import KNeighborsClassifier\n",
    "from sklearn.svm import SVC\n",
    "from sklearn.ensemble import RandomForestClassifier \n",
    "from sklearn.model_selection import GridSearchCV, train_test_split, cross_val_score\n",
    "from sklearn.metrics import accuracy_score\n",
    "import warnings"
   ]
  },
  {
   "cell_type": "code",
   "execution_count": 15,
   "metadata": {
    "ExecuteTime": {
     "end_time": "2019-11-17T22:29:17.834641Z",
     "start_time": "2019-11-17T22:29:17.789819Z"
    }
   },
   "outputs": [],
   "source": [
    "# Load clean predictor and target sets\n",
    "X = pd.read_pickle('/Users/alyssaliguori/fis/projects/data/predictors.pickle')\n",
    "y = pd.read_pickle('/Users/alyssaliguori/fis/projects/data/target.pickle')"
   ]
  },
  {
   "cell_type": "code",
   "execution_count": 16,
   "metadata": {
    "ExecuteTime": {
     "end_time": "2019-11-17T22:29:17.943261Z",
     "start_time": "2019-11-17T22:29:17.935191Z"
    }
   },
   "outputs": [
    {
     "name": "stdout",
     "output_type": "stream",
     "text": [
      "Predictor shape: (39644, 51) \n",
      " Target shape: (39644,) \n",
      "\n"
     ]
    }
   ],
   "source": [
    "# print shape\n",
    "print('Predictor shape:',X.shape, '\\n',\n",
    "      'Target shape:', y.shape, '\\n')"
   ]
  },
  {
   "cell_type": "markdown",
   "metadata": {},
   "source": [
    "## Using train_test_split"
   ]
  },
  {
   "cell_type": "code",
   "execution_count": 17,
   "metadata": {
    "ExecuteTime": {
     "end_time": "2019-11-17T22:29:18.145675Z",
     "start_time": "2019-11-17T22:29:18.087834Z"
    }
   },
   "outputs": [],
   "source": [
    "# split train data and test data \n",
    "X_train, X_test, y_train, y_test = train_test_split(X, \n",
    "                                                    y, \n",
    "                                                    test_size=0.2, \n",
    "                                                    random_state=0, \n",
    "                                                    stratify=y\n",
    "                                                   ) "
   ]
  },
  {
   "cell_type": "code",
   "execution_count": 18,
   "metadata": {
    "ExecuteTime": {
     "end_time": "2019-11-17T22:29:18.340400Z",
     "start_time": "2019-11-17T22:29:18.254916Z"
    }
   },
   "outputs": [],
   "source": [
    "# scale using train data and transform test data \n",
    "scaler = StandardScaler()\n",
    "X_train = scaler.fit_transform(X_train)\n",
    "X_test = scaler.transform(X_test)"
   ]
  },
  {
   "cell_type": "code",
   "execution_count": 19,
   "metadata": {
    "ExecuteTime": {
     "end_time": "2019-11-17T22:30:16.256217Z",
     "start_time": "2019-11-17T22:29:18.430566Z"
    }
   },
   "outputs": [
    {
     "name": "stderr",
     "output_type": "stream",
     "text": [
      "/Users/alyssaliguori/anaconda3/lib/python3.7/site-packages/sklearn/ensemble/forest.py:245: FutureWarning: The default value of n_estimators will change from 10 in version 0.20 to 100 in 0.22.\n",
      "  \"10 in version 0.20 to 100 in 0.22.\", FutureWarning)\n"
     ]
    }
   ],
   "source": [
    "# call models \n",
    "knn = KNeighborsClassifier()\n",
    "rf = RandomForestClassifier()\n",
    "##svm = SVC(kernel='linear')\n",
    "\n",
    "# fit to train data \n",
    "knn.fit(X_train, y_train)\n",
    "rf.fit(X_train, y_train)\n",
    "##svm.fit(X_train, y_train)\n",
    "\n",
    "# predict test values \n",
    "y_hat_knn = knn.predict(X_test)\n",
    "y_hat_rf = rf.predict(X_test)\n",
    "##y_hat_svm = svm.predict(X_test)"
   ]
  },
  {
   "cell_type": "code",
   "execution_count": 20,
   "metadata": {
    "ExecuteTime": {
     "end_time": "2019-11-17T22:30:16.277009Z",
     "start_time": "2019-11-17T22:30:16.259883Z"
    }
   },
   "outputs": [
    {
     "name": "stdout",
     "output_type": "stream",
     "text": [
      "KNN test score: 0.84374\n",
      "RF test score: 0.85294\n"
     ]
    }
   ],
   "source": [
    "# score models on test data \n",
    "score_knn = accuracy_score(y_test, y_hat_knn)\n",
    "score_rf = accuracy_score(y_test, y_hat_rf)\n",
    "##score_svm = accuracy_score(y_test, y_hat_svm)\n",
    "print('KNN test score:', round(score_knn, 5))\n",
    "print('RF test score:', round(score_rf, 5))\n",
    "##print('SVM test score:', score_svm)"
   ]
  },
  {
   "cell_type": "markdown",
   "metadata": {},
   "source": [
    "## Using cross-validation"
   ]
  },
  {
   "cell_type": "code",
   "execution_count": 29,
   "metadata": {
    "ExecuteTime": {
     "end_time": "2019-11-17T22:45:40.496011Z",
     "start_time": "2019-11-17T22:45:40.490500Z"
    }
   },
   "outputs": [],
   "source": [
    "knn_pipe = Pipeline([('scale', StandardScaler()),\n",
    "                     ('knn', KNeighborsClassifier())\n",
    "                    ])\n",
    "rf_pipe = Pipeline([('scale', StandardScaler()),\n",
    "                    ('rf', RandomForestClassifier())\n",
    "                   ])"
   ]
  },
  {
   "cell_type": "code",
   "execution_count": 26,
   "metadata": {
    "ExecuteTime": {
     "end_time": "2019-11-17T22:43:37.195670Z",
     "start_time": "2019-11-17T22:39:54.415543Z"
    }
   },
   "outputs": [
    {
     "name": "stdout",
     "output_type": "stream",
     "text": [
      "KNN scores: [0.84993695 0.84108967 0.84134191 0.8413219  0.83842079] \n",
      "\n"
     ]
    }
   ],
   "source": [
    "scores_knn = cross_val_score(knn_pipe, X, y, cv=5, scoring='accuracy')\n",
    "print('KNN scores:', scores_knn, '\\n')"
   ]
  },
  {
   "cell_type": "code",
   "execution_count": 34,
   "metadata": {
    "ExecuteTime": {
     "end_time": "2019-11-17T22:47:29.684441Z",
     "start_time": "2019-11-17T22:47:16.627376Z"
    }
   },
   "outputs": [
    {
     "name": "stdout",
     "output_type": "stream",
     "text": [
      "Random forest scores: [0.84035309 0.85130533 0.8537016  0.85191726 0.85380928]\n"
     ]
    }
   ],
   "source": [
    "scores_rf = cross_val_score(rf_pipe, X, y, cv=5, scoring='accuracy')\n",
    "print('Random forest scores:', scores_rf)\n",
    "warnings.filterwarnings('ignore')"
   ]
  },
  {
   "cell_type": "code",
   "execution_count": 41,
   "metadata": {
    "ExecuteTime": {
     "end_time": "2019-11-17T22:49:11.053585Z",
     "start_time": "2019-11-17T22:49:11.046794Z"
    }
   },
   "outputs": [
    {
     "name": "stdout",
     "output_type": "stream",
     "text": [
      "knn cv mean: 0.8424222425459922 \n",
      " rf cv mean: 0.8502173129890103\n"
     ]
    }
   ],
   "source": [
    "print('knn cv mean:', scores_knn.mean(),'\\n',\n",
    "      'rf cv mean:', scores_rf.mean())"
   ]
  },
  {
   "cell_type": "code",
   "execution_count": 59,
   "metadata": {
    "ExecuteTime": {
     "end_time": "2019-11-17T23:03:04.973140Z",
     "start_time": "2019-11-17T23:03:04.001478Z"
    }
   },
   "outputs": [
    {
     "data": {
      "image/png": "[encoded data removed]",
      "text/plain": [
       "<Figure size 432x288 with 1 Axes>"
      ]
     },
     "metadata": {
      "needs_background": "light"
     },
     "output_type": "display_data"
    },
    {
     "name": "stdout",
     "output_type": "stream",
     "text": [
      "0.032351158352786936\n"
     ]
    }
   ],
   "source": [
    "features = X.columns\n",
    "importances = rf.feature_importances_\n",
    "indices = np.argsort(importances)\n",
    "\n",
    "plt.title('Feature Importances')\n",
    "plt.barh(range(len(indices)), importances[indices])\n",
    "plt.yticks(range(len(indices)), [features[i] for i in indices])\n",
    "plt.xlabel('Relative Importance')\n",
    "plt.show()\n",
    "\n",
    "# max feature importance \n",
    "print(importances.max())"
   ]
  },
  {
   "cell_type": "markdown",
   "metadata": {},
   "source": [
    "## Using gridsearch cross-validation"
   ]
  },
  {
   "cell_type": "code",
   "execution_count": null,
   "metadata": {},
   "outputs": [],
   "source": [
    "search = GridSearchCV()"
   ]
  }
 ],
 "metadata": {
  "kernelspec": {
   "display_name": "Python 3",
   "language": "python",
   "name": "python3"
  },
  "language_info": {
   "codemirror_mode": {
    "name": "ipython",
    "version": 3
   },
   "file_extension": ".py",
   "mimetype": "text/x-python",
   "name": "python",
   "nbconvert_exporter": "python",
   "pygments_lexer": "ipython3",
   "version": "3.7.3"
  },
  "latex_envs": {
   "LaTeX_envs_menu_present": true,
   "autoclose": false,
   "autocomplete": true,
   "bibliofile": "biblio.bib",
   "cite_by": "apalike",
   "current_citInitial": 1,
   "eqLabelWithNumbers": true,
   "eqNumInitial": 1,
   "hotkeys": {
    "equation": "Ctrl-E",
    "itemize": "Ctrl-I"
   },
   "labels_anchors": false,
   "latex_user_defs": false,
   "report_style_numbering": false,
   "user_envs_cfg": false
  },
  "toc": {
   "base_numbering": 1,
   "nav_menu": {},
   "number_sections": true,
   "sideBar": true,
   "skip_h1_title": false,
   "title_cell": "Table of Contents",
   "title_sidebar": "Contents",
   "toc_cell": false,
   "toc_position": {},
   "toc_section_display": true,
   "toc_window_display": false
  }
 },
 "nbformat": 4,
 "nbformat_minor": 2
}
